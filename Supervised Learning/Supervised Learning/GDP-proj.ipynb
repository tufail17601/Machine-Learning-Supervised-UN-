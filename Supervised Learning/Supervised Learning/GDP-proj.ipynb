{
 "cells": [
  {
   "cell_type": "code",
   "execution_count": 1,
   "id": "30f73c0f",
   "metadata": {},
   "outputs": [],
   "source": [
    "import pandas as pd\n"
   ]
  },
  {
   "cell_type": "code",
   "execution_count": 2,
   "id": "6401ade2",
   "metadata": {},
   "outputs": [
    {
     "data": {
      "text/html": [
       "<div>\n",
       "<style scoped>\n",
       "    .dataframe tbody tr th:only-of-type {\n",
       "        vertical-align: middle;\n",
       "    }\n",
       "\n",
       "    .dataframe tbody tr th {\n",
       "        vertical-align: top;\n",
       "    }\n",
       "\n",
       "    .dataframe thead th {\n",
       "        text-align: right;\n",
       "    }\n",
       "</style>\n",
       "<table border=\"1\" class=\"dataframe\">\n",
       "  <thead>\n",
       "    <tr style=\"text-align: right;\">\n",
       "      <th></th>\n",
       "      <th>Country</th>\n",
       "      <th>2020</th>\n",
       "      <th>2021</th>\n",
       "      <th>2022</th>\n",
       "      <th>2023</th>\n",
       "      <th>2024</th>\n",
       "      <th>2025</th>\n",
       "    </tr>\n",
       "  </thead>\n",
       "  <tbody>\n",
       "    <tr>\n",
       "      <th>0</th>\n",
       "      <td>Afghanistan</td>\n",
       "      <td>20136</td>\n",
       "      <td>14278.0</td>\n",
       "      <td>14501.0</td>\n",
       "      <td>17248.0</td>\n",
       "      <td>NaN</td>\n",
       "      <td>NaN</td>\n",
       "    </tr>\n",
       "    <tr>\n",
       "      <th>1</th>\n",
       "      <td>Albania</td>\n",
       "      <td>15271</td>\n",
       "      <td>18086.0</td>\n",
       "      <td>19185.0</td>\n",
       "      <td>23388.0</td>\n",
       "      <td>27259.0</td>\n",
       "      <td>28372.0</td>\n",
       "    </tr>\n",
       "    <tr>\n",
       "      <th>2</th>\n",
       "      <td>Algeria</td>\n",
       "      <td>164774</td>\n",
       "      <td>185850.0</td>\n",
       "      <td>225709.0</td>\n",
       "      <td>247789.0</td>\n",
       "      <td>264913.0</td>\n",
       "      <td>268885.0</td>\n",
       "    </tr>\n",
       "    <tr>\n",
       "      <th>3</th>\n",
       "      <td>Andorra</td>\n",
       "      <td>2885</td>\n",
       "      <td>3325.0</td>\n",
       "      <td>3376.0</td>\n",
       "      <td>3786.0</td>\n",
       "      <td>4038.0</td>\n",
       "      <td>4035.0</td>\n",
       "    </tr>\n",
       "    <tr>\n",
       "      <th>4</th>\n",
       "      <td>Angola</td>\n",
       "      <td>66521</td>\n",
       "      <td>84375.0</td>\n",
       "      <td>142442.0</td>\n",
       "      <td>109764.0</td>\n",
       "      <td>115946.0</td>\n",
       "      <td>113343.0</td>\n",
       "    </tr>\n",
       "  </tbody>\n",
       "</table>\n",
       "</div>"
      ],
      "text/plain": [
       "       Country    2020      2021      2022      2023      2024      2025\n",
       "0  Afghanistan   20136   14278.0   14501.0   17248.0       NaN       NaN\n",
       "1      Albania   15271   18086.0   19185.0   23388.0   27259.0   28372.0\n",
       "2      Algeria  164774  185850.0  225709.0  247789.0  264913.0  268885.0\n",
       "3      Andorra    2885    3325.0    3376.0    3786.0    4038.0    4035.0\n",
       "4       Angola   66521   84375.0  142442.0  109764.0  115946.0  113343.0"
      ]
     },
     "execution_count": 2,
     "metadata": {},
     "output_type": "execute_result"
    }
   ],
   "source": [
    "df = pd.read_csv(r\"D:\\kaaagle_Data\\2020-2025.csv\")\n",
    "df.head()"
   ]
  },
  {
   "cell_type": "code",
   "execution_count": 3,
   "id": "fd45bc3a",
   "metadata": {},
   "outputs": [],
   "source": [
    "df_long = df.melt(\n",
    "    id_vars=[\"Country\"],         # keep Country\n",
    "    value_vars=[\"2020\",\"2021\",\"2022\",\"2023\",\"2024\",\"2025\"],  # years\n",
    "    var_name=\"Year\",             # new column name for years\n",
    "    value_name=\"GDP\"             # new column name for GDP\n",
    ")\n",
    "\n",
    "# Convert Year to integer\n",
    "df_long[\"Year\"] = df_long[\"Year\"].astype(int)"
   ]
  },
  {
   "cell_type": "code",
   "execution_count": 4,
   "id": "c4cac282",
   "metadata": {},
   "outputs": [
    {
     "data": {
      "text/html": [
       "<div>\n",
       "<style scoped>\n",
       "    .dataframe tbody tr th:only-of-type {\n",
       "        vertical-align: middle;\n",
       "    }\n",
       "\n",
       "    .dataframe tbody tr th {\n",
       "        vertical-align: top;\n",
       "    }\n",
       "\n",
       "    .dataframe thead th {\n",
       "        text-align: right;\n",
       "    }\n",
       "</style>\n",
       "<table border=\"1\" class=\"dataframe\">\n",
       "  <thead>\n",
       "    <tr style=\"text-align: right;\">\n",
       "      <th></th>\n",
       "      <th>Country</th>\n",
       "      <th>Year</th>\n",
       "      <th>GDP</th>\n",
       "    </tr>\n",
       "  </thead>\n",
       "  <tbody>\n",
       "    <tr>\n",
       "      <th>0</th>\n",
       "      <td>Afghanistan</td>\n",
       "      <td>2020</td>\n",
       "      <td>20136.0</td>\n",
       "    </tr>\n",
       "    <tr>\n",
       "      <th>1</th>\n",
       "      <td>Albania</td>\n",
       "      <td>2020</td>\n",
       "      <td>15271.0</td>\n",
       "    </tr>\n",
       "    <tr>\n",
       "      <th>2</th>\n",
       "      <td>Algeria</td>\n",
       "      <td>2020</td>\n",
       "      <td>164774.0</td>\n",
       "    </tr>\n",
       "    <tr>\n",
       "      <th>3</th>\n",
       "      <td>Andorra</td>\n",
       "      <td>2020</td>\n",
       "      <td>2885.0</td>\n",
       "    </tr>\n",
       "    <tr>\n",
       "      <th>4</th>\n",
       "      <td>Angola</td>\n",
       "      <td>2020</td>\n",
       "      <td>66521.0</td>\n",
       "    </tr>\n",
       "    <tr>\n",
       "      <th>...</th>\n",
       "      <td>...</td>\n",
       "      <td>...</td>\n",
       "      <td>...</td>\n",
       "    </tr>\n",
       "    <tr>\n",
       "      <th>1171</th>\n",
       "      <td>Vietnam</td>\n",
       "      <td>2025</td>\n",
       "      <td>490970.0</td>\n",
       "    </tr>\n",
       "    <tr>\n",
       "      <th>1172</th>\n",
       "      <td>Palestine</td>\n",
       "      <td>2025</td>\n",
       "      <td>NaN</td>\n",
       "    </tr>\n",
       "    <tr>\n",
       "      <th>1173</th>\n",
       "      <td>Yemen</td>\n",
       "      <td>2025</td>\n",
       "      <td>17401.0</td>\n",
       "    </tr>\n",
       "    <tr>\n",
       "      <th>1174</th>\n",
       "      <td>Zambia</td>\n",
       "      <td>2025</td>\n",
       "      <td>28910.0</td>\n",
       "    </tr>\n",
       "    <tr>\n",
       "      <th>1175</th>\n",
       "      <td>Zimbabwe</td>\n",
       "      <td>2025</td>\n",
       "      <td>38172.0</td>\n",
       "    </tr>\n",
       "  </tbody>\n",
       "</table>\n",
       "<p>1176 rows × 3 columns</p>\n",
       "</div>"
      ],
      "text/plain": [
       "          Country  Year       GDP\n",
       "0     Afghanistan  2020   20136.0\n",
       "1         Albania  2020   15271.0\n",
       "2         Algeria  2020  164774.0\n",
       "3         Andorra  2020    2885.0\n",
       "4          Angola  2020   66521.0\n",
       "...           ...   ...       ...\n",
       "1171      Vietnam  2025  490970.0\n",
       "1172    Palestine  2025       NaN\n",
       "1173        Yemen  2025   17401.0\n",
       "1174       Zambia  2025   28910.0\n",
       "1175     Zimbabwe  2025   38172.0\n",
       "\n",
       "[1176 rows x 3 columns]"
      ]
     },
     "execution_count": 4,
     "metadata": {},
     "output_type": "execute_result"
    }
   ],
   "source": [
    "df_long"
   ]
  },
  {
   "cell_type": "code",
   "execution_count": 5,
   "id": "62bd5d58",
   "metadata": {},
   "outputs": [
    {
     "data": {
      "text/html": [
       "<div>\n",
       "<style scoped>\n",
       "    .dataframe tbody tr th:only-of-type {\n",
       "        vertical-align: middle;\n",
       "    }\n",
       "\n",
       "    .dataframe tbody tr th {\n",
       "        vertical-align: top;\n",
       "    }\n",
       "\n",
       "    .dataframe thead th {\n",
       "        text-align: right;\n",
       "    }\n",
       "</style>\n",
       "<table border=\"1\" class=\"dataframe\">\n",
       "  <thead>\n",
       "    <tr style=\"text-align: right;\">\n",
       "      <th></th>\n",
       "      <th>Country</th>\n",
       "      <th>Year</th>\n",
       "      <th>GDP</th>\n",
       "    </tr>\n",
       "  </thead>\n",
       "  <tbody>\n",
       "    <tr>\n",
       "      <th>0</th>\n",
       "      <td>Afghanistan</td>\n",
       "      <td>2020</td>\n",
       "      <td>20136.0</td>\n",
       "    </tr>\n",
       "    <tr>\n",
       "      <th>196</th>\n",
       "      <td>Afghanistan</td>\n",
       "      <td>2021</td>\n",
       "      <td>14278.0</td>\n",
       "    </tr>\n",
       "    <tr>\n",
       "      <th>392</th>\n",
       "      <td>Afghanistan</td>\n",
       "      <td>2022</td>\n",
       "      <td>14501.0</td>\n",
       "    </tr>\n",
       "    <tr>\n",
       "      <th>588</th>\n",
       "      <td>Afghanistan</td>\n",
       "      <td>2023</td>\n",
       "      <td>17248.0</td>\n",
       "    </tr>\n",
       "    <tr>\n",
       "      <th>784</th>\n",
       "      <td>Afghanistan</td>\n",
       "      <td>2024</td>\n",
       "      <td>NaN</td>\n",
       "    </tr>\n",
       "    <tr>\n",
       "      <th>980</th>\n",
       "      <td>Afghanistan</td>\n",
       "      <td>2025</td>\n",
       "      <td>NaN</td>\n",
       "    </tr>\n",
       "  </tbody>\n",
       "</table>\n",
       "</div>"
      ],
      "text/plain": [
       "         Country  Year      GDP\n",
       "0    Afghanistan  2020  20136.0\n",
       "196  Afghanistan  2021  14278.0\n",
       "392  Afghanistan  2022  14501.0\n",
       "588  Afghanistan  2023  17248.0\n",
       "784  Afghanistan  2024      NaN\n",
       "980  Afghanistan  2025      NaN"
      ]
     },
     "execution_count": 5,
     "metadata": {},
     "output_type": "execute_result"
    }
   ],
   "source": [
    "df_long[df_long['Country'] == 'Afghanistan']"
   ]
  },
  {
   "cell_type": "code",
   "execution_count": 6,
   "id": "945eae27",
   "metadata": {},
   "outputs": [],
   "source": [
    "df_long = df_long.sort_values(by=['Country', 'Year'])"
   ]
  },
  {
   "cell_type": "code",
   "execution_count": 7,
   "id": "8b584417",
   "metadata": {},
   "outputs": [
    {
     "data": {
      "text/html": [
       "<div>\n",
       "<style scoped>\n",
       "    .dataframe tbody tr th:only-of-type {\n",
       "        vertical-align: middle;\n",
       "    }\n",
       "\n",
       "    .dataframe tbody tr th {\n",
       "        vertical-align: top;\n",
       "    }\n",
       "\n",
       "    .dataframe thead th {\n",
       "        text-align: right;\n",
       "    }\n",
       "</style>\n",
       "<table border=\"1\" class=\"dataframe\">\n",
       "  <thead>\n",
       "    <tr style=\"text-align: right;\">\n",
       "      <th></th>\n",
       "      <th>Country</th>\n",
       "      <th>Year</th>\n",
       "      <th>GDP</th>\n",
       "    </tr>\n",
       "  </thead>\n",
       "  <tbody>\n",
       "    <tr>\n",
       "      <th>0</th>\n",
       "      <td>Afghanistan</td>\n",
       "      <td>2020</td>\n",
       "      <td>20136.0</td>\n",
       "    </tr>\n",
       "    <tr>\n",
       "      <th>196</th>\n",
       "      <td>Afghanistan</td>\n",
       "      <td>2021</td>\n",
       "      <td>14278.0</td>\n",
       "    </tr>\n",
       "    <tr>\n",
       "      <th>392</th>\n",
       "      <td>Afghanistan</td>\n",
       "      <td>2022</td>\n",
       "      <td>14501.0</td>\n",
       "    </tr>\n",
       "    <tr>\n",
       "      <th>588</th>\n",
       "      <td>Afghanistan</td>\n",
       "      <td>2023</td>\n",
       "      <td>17248.0</td>\n",
       "    </tr>\n",
       "    <tr>\n",
       "      <th>784</th>\n",
       "      <td>Afghanistan</td>\n",
       "      <td>2024</td>\n",
       "      <td>17248.0</td>\n",
       "    </tr>\n",
       "    <tr>\n",
       "      <th>980</th>\n",
       "      <td>Afghanistan</td>\n",
       "      <td>2025</td>\n",
       "      <td>17248.0</td>\n",
       "    </tr>\n",
       "  </tbody>\n",
       "</table>\n",
       "</div>"
      ],
      "text/plain": [
       "         Country  Year      GDP\n",
       "0    Afghanistan  2020  20136.0\n",
       "196  Afghanistan  2021  14278.0\n",
       "392  Afghanistan  2022  14501.0\n",
       "588  Afghanistan  2023  17248.0\n",
       "784  Afghanistan  2024  17248.0\n",
       "980  Afghanistan  2025  17248.0"
      ]
     },
     "execution_count": 7,
     "metadata": {},
     "output_type": "execute_result"
    }
   ],
   "source": [
    "df_long['GDP'] = (\n",
    "    df_long.groupby('Country')['GDP']\n",
    "           .transform(lambda x: x.interpolate(method='linear')\n",
    "                                  .fillna(x.median()))\n",
    ")\n",
    "df_long[df_long['Country'] == 'Afghanistan']"
   ]
  },
  {
   "cell_type": "code",
   "execution_count": 8,
   "id": "f3935de6",
   "metadata": {},
   "outputs": [
    {
     "data": {
      "text/plain": [
       "<Axes: ylabel='GDP'>"
      ]
     },
     "execution_count": 8,
     "metadata": {},
     "output_type": "execute_result"
    },
    {
     "data": {
      "image/png": "[encoded data removed]",
      "text/plain": [
       "<Figure size 640x480 with 1 Axes>"
      ]
     },
     "metadata": {},
     "output_type": "display_data"
    }
   ],
   "source": [
    "import seaborn as sns\n",
    "sns.boxenplot(df_long['GDP'])"
   ]
  },
  {
   "cell_type": "code",
   "execution_count": 9,
   "id": "944cdb9c",
   "metadata": {},
   "outputs": [
    {
     "data": {
      "text/plain": [
       "count    1176.000000\n",
       "mean     2022.500000\n",
       "std         1.708552\n",
       "min      2020.000000\n",
       "25%      2021.000000\n",
       "50%      2022.500000\n",
       "75%      2024.000000\n",
       "max      2025.000000\n",
       "Name: Year, dtype: float64"
      ]
     },
     "execution_count": 9,
     "metadata": {},
     "output_type": "execute_result"
    }
   ],
   "source": [
    "df_long['Year'].describe()"
   ]
  },
  {
   "cell_type": "code",
   "execution_count": 10,
   "id": "0cd0c6b0",
   "metadata": {},
   "outputs": [
    {
     "data": {
      "text/plain": [
       "count    1.176000e+03\n",
       "mean     5.244051e+05\n",
       "std      2.360849e+06\n",
       "min      5.200000e+01\n",
       "25%      1.196800e+04\n",
       "50%      4.263850e+04\n",
       "75%      2.673815e+05\n",
       "max      3.050722e+07\n",
       "Name: GDP, dtype: float64"
      ]
     },
     "execution_count": 10,
     "metadata": {},
     "output_type": "execute_result"
    }
   ],
   "source": [
    "df_long['GDP'].describe()"
   ]
  },
  {
   "cell_type": "code",
   "execution_count": 11,
   "id": "5ca9ee95",
   "metadata": {},
   "outputs": [],
   "source": [
    "df_long['Z_score'] = df_long.groupby('Country')['GDP'].transform(\n",
    "    lambda x: (x - x.mean()) / x.std()\n",
    ")\n",
    "\n",
    "df_long['Outlier_Z'] = df_long['Z_score'].abs() > 3\n",
    "\n"
   ]
  },
  {
   "cell_type": "code",
   "execution_count": 12,
   "id": "bf71249e",
   "metadata": {},
   "outputs": [
    {
     "data": {
      "text/plain": [
       "Outlier_Z\n",
       "False    1176\n",
       "Name: count, dtype: int64"
      ]
     },
     "execution_count": 12,
     "metadata": {},
     "output_type": "execute_result"
    }
   ],
   "source": [
    "df_long['Outlier_Z'].value_counts()"
   ]
  },
  {
   "cell_type": "code",
   "execution_count": 13,
   "id": "097ac94a",
   "metadata": {},
   "outputs": [
    {
     "data": {
      "text/html": [
       "<div>\n",
       "<style scoped>\n",
       "    .dataframe tbody tr th:only-of-type {\n",
       "        vertical-align: middle;\n",
       "    }\n",
       "\n",
       "    .dataframe tbody tr th {\n",
       "        vertical-align: top;\n",
       "    }\n",
       "\n",
       "    .dataframe thead th {\n",
       "        text-align: right;\n",
       "    }\n",
       "</style>\n",
       "<table border=\"1\" class=\"dataframe\">\n",
       "  <thead>\n",
       "    <tr style=\"text-align: right;\">\n",
       "      <th></th>\n",
       "      <th>Country</th>\n",
       "      <th>Year</th>\n",
       "      <th>GDP</th>\n",
       "      <th>Z_score</th>\n",
       "      <th>Outlier_Z</th>\n",
       "    </tr>\n",
       "  </thead>\n",
       "  <tbody>\n",
       "    <tr>\n",
       "      <th>0</th>\n",
       "      <td>Afghanistan</td>\n",
       "      <td>2020</td>\n",
       "      <td>20136.0</td>\n",
       "      <td>1.553807</td>\n",
       "      <td>False</td>\n",
       "    </tr>\n",
       "    <tr>\n",
       "      <th>196</th>\n",
       "      <td>Afghanistan</td>\n",
       "      <td>2021</td>\n",
       "      <td>14278.0</td>\n",
       "      <td>-1.155585</td>\n",
       "      <td>False</td>\n",
       "    </tr>\n",
       "    <tr>\n",
       "      <th>392</th>\n",
       "      <td>Afghanistan</td>\n",
       "      <td>2022</td>\n",
       "      <td>14501.0</td>\n",
       "      <td>-1.052445</td>\n",
       "      <td>False</td>\n",
       "    </tr>\n",
       "    <tr>\n",
       "      <th>588</th>\n",
       "      <td>Afghanistan</td>\n",
       "      <td>2023</td>\n",
       "      <td>17248.0</td>\n",
       "      <td>0.218074</td>\n",
       "      <td>False</td>\n",
       "    </tr>\n",
       "    <tr>\n",
       "      <th>784</th>\n",
       "      <td>Afghanistan</td>\n",
       "      <td>2024</td>\n",
       "      <td>17248.0</td>\n",
       "      <td>0.218074</td>\n",
       "      <td>False</td>\n",
       "    </tr>\n",
       "  </tbody>\n",
       "</table>\n",
       "</div>"
      ],
      "text/plain": [
       "         Country  Year      GDP   Z_score  Outlier_Z\n",
       "0    Afghanistan  2020  20136.0  1.553807      False\n",
       "196  Afghanistan  2021  14278.0 -1.155585      False\n",
       "392  Afghanistan  2022  14501.0 -1.052445      False\n",
       "588  Afghanistan  2023  17248.0  0.218074      False\n",
       "784  Afghanistan  2024  17248.0  0.218074      False"
      ]
     },
     "execution_count": 13,
     "metadata": {},
     "output_type": "execute_result"
    }
   ],
   "source": [
    "df_long.head()"
   ]
  },
  {
   "cell_type": "code",
   "execution_count": 14,
   "id": "353d4f4a",
   "metadata": {},
   "outputs": [],
   "source": [
    "df_long.drop(columns=['Z_score', 'Outlier_Z'], inplace=True)"
   ]
  },
  {
   "cell_type": "code",
   "execution_count": null,
   "id": "3b752704",
   "metadata": {},
   "outputs": [
    {
     "data": {
      "text/html": [
       "<div>\n",
       "<style scoped>\n",
       "    .dataframe tbody tr th:only-of-type {\n",
       "        vertical-align: middle;\n",
       "    }\n",
       "\n",
       "    .dataframe tbody tr th {\n",
       "        vertical-align: top;\n",
       "    }\n",
       "\n",
       "    .dataframe thead th {\n",
       "        text-align: right;\n",
       "    }\n",
       "</style>\n",
       "<table border=\"1\" class=\"dataframe\">\n",
       "  <thead>\n",
       "    <tr style=\"text-align: right;\">\n",
       "      <th></th>\n",
       "      <th>Country</th>\n",
       "      <th>Year</th>\n",
       "      <th>GDP</th>\n",
       "    </tr>\n",
       "  </thead>\n",
       "  <tbody>\n",
       "    <tr>\n",
       "      <th>0</th>\n",
       "      <td>Afghanistan</td>\n",
       "      <td>2020</td>\n",
       "      <td>20136.0</td>\n",
       "    </tr>\n",
       "    <tr>\n",
       "      <th>196</th>\n",
       "      <td>Afghanistan</td>\n",
       "      <td>2021</td>\n",
       "      <td>14278.0</td>\n",
       "    </tr>\n",
       "    <tr>\n",
       "      <th>392</th>\n",
       "      <td>Afghanistan</td>\n",
       "      <td>2022</td>\n",
       "      <td>14501.0</td>\n",
       "    </tr>\n",
       "    <tr>\n",
       "      <th>588</th>\n",
       "      <td>Afghanistan</td>\n",
       "      <td>2023</td>\n",
       "      <td>17248.0</td>\n",
       "    </tr>\n",
       "    <tr>\n",
       "      <th>784</th>\n",
       "      <td>Afghanistan</td>\n",
       "      <td>2024</td>\n",
       "      <td>17248.0</td>\n",
       "    </tr>\n",
       "    <tr>\n",
       "      <th>980</th>\n",
       "      <td>Afghanistan</td>\n",
       "      <td>2025</td>\n",
       "      <td>17248.0</td>\n",
       "    </tr>\n",
       "  </tbody>\n",
       "</table>\n",
       "</div>"
      ],
      "text/plain": [
       "         Country  Year      GDP\n",
       "0    Afghanistan  2020  20136.0\n",
       "196  Afghanistan  2021  14278.0\n",
       "392  Afghanistan  2022  14501.0\n",
       "588  Afghanistan  2023  17248.0\n",
       "784  Afghanistan  2024  17248.0\n",
       "980  Afghanistan  2025  17248.0"
      ]
     },
     "execution_count": 15,
     "metadata": {},
     "output_type": "execute_result"
    }
   ],
   "source": [
    "df_long.head(6)"
   ]
  },
  {
   "cell_type": "code",
   "execution_count": 16,
   "id": "02a7c10c",
   "metadata": {},
   "outputs": [],
   "source": [
    "from sklearn.preprocessing import LabelEncoder\n",
    "le = LabelEncoder()\n",
    "df_long['Country'] = le.fit_transform(df_long['Country'])"
   ]
  },
  {
   "cell_type": "code",
   "execution_count": 17,
   "id": "be8f0ff5",
   "metadata": {},
   "outputs": [
    {
     "data": {
      "text/html": [
       "<div>\n",
       "<style scoped>\n",
       "    .dataframe tbody tr th:only-of-type {\n",
       "        vertical-align: middle;\n",
       "    }\n",
       "\n",
       "    .dataframe tbody tr th {\n",
       "        vertical-align: top;\n",
       "    }\n",
       "\n",
       "    .dataframe thead th {\n",
       "        text-align: right;\n",
       "    }\n",
       "</style>\n",
       "<table border=\"1\" class=\"dataframe\">\n",
       "  <thead>\n",
       "    <tr style=\"text-align: right;\">\n",
       "      <th></th>\n",
       "      <th>Country</th>\n",
       "      <th>Year</th>\n",
       "      <th>GDP</th>\n",
       "    </tr>\n",
       "  </thead>\n",
       "  <tbody>\n",
       "    <tr>\n",
       "      <th>1134</th>\n",
       "      <td>156</td>\n",
       "      <td>2025</td>\n",
       "      <td>147031.0</td>\n",
       "    </tr>\n",
       "    <tr>\n",
       "      <th>67</th>\n",
       "      <td>66</td>\n",
       "      <td>2020</td>\n",
       "      <td>1043.0</td>\n",
       "    </tr>\n",
       "    <tr>\n",
       "      <th>839</th>\n",
       "      <td>53</td>\n",
       "      <td>2024</td>\n",
       "      <td>42752.0</td>\n",
       "    </tr>\n",
       "    <tr>\n",
       "      <th>334</th>\n",
       "      <td>137</td>\n",
       "      <td>2021</td>\n",
       "      <td>689253.0</td>\n",
       "    </tr>\n",
       "    <tr>\n",
       "      <th>321</th>\n",
       "      <td>123</td>\n",
       "      <td>2021</td>\n",
       "      <td>14208.0</td>\n",
       "    </tr>\n",
       "    <tr>\n",
       "      <th>370</th>\n",
       "      <td>175</td>\n",
       "      <td>2021</td>\n",
       "      <td>3625.0</td>\n",
       "    </tr>\n",
       "    <tr>\n",
       "      <th>206</th>\n",
       "      <td>10</td>\n",
       "      <td>2021</td>\n",
       "      <td>480786.0</td>\n",
       "    </tr>\n",
       "    <tr>\n",
       "      <th>991</th>\n",
       "      <td>11</td>\n",
       "      <td>2025</td>\n",
       "      <td>78870.0</td>\n",
       "    </tr>\n",
       "    <tr>\n",
       "      <th>409</th>\n",
       "      <td>17</td>\n",
       "      <td>2022</td>\n",
       "      <td>593906.0</td>\n",
       "    </tr>\n",
       "    <tr>\n",
       "      <th>1031</th>\n",
       "      <td>49</td>\n",
       "      <td>2025</td>\n",
       "      <td>347342.0</td>\n",
       "    </tr>\n",
       "  </tbody>\n",
       "</table>\n",
       "</div>"
      ],
      "text/plain": [
       "      Country  Year       GDP\n",
       "1134      156  2025  147031.0\n",
       "67         66  2020    1043.0\n",
       "839        53  2024   42752.0\n",
       "334       137  2021  689253.0\n",
       "321       123  2021   14208.0\n",
       "370       175  2021    3625.0\n",
       "206        10  2021  480786.0\n",
       "991        11  2025   78870.0\n",
       "409        17  2022  593906.0\n",
       "1031       49  2025  347342.0"
      ]
     },
     "execution_count": 17,
     "metadata": {},
     "output_type": "execute_result"
    }
   ],
   "source": [
    "df_long.sample(10)"
   ]
  },
  {
   "cell_type": "code",
   "execution_count": 18,
   "id": "1b50a8ff",
   "metadata": {},
   "outputs": [],
   "source": [
    "x = df_long[['Country', 'Year']]\n",
    "y = df_long['GDP']"
   ]
  },
  {
   "cell_type": "code",
   "execution_count": 19,
   "id": "ef5dd7e5",
   "metadata": {},
   "outputs": [],
   "source": [
    "from sklearn.preprocessing import MinMaxScaler\n",
    "scale = MinMaxScaler()\n",
    "y = scale.fit_transform(y.values.reshape(-1, 1))"
   ]
  },
  {
   "cell_type": "code",
   "execution_count": 20,
   "id": "7377a526",
   "metadata": {},
   "outputs": [
    {
     "data": {
      "text/plain": [
       "array([[0.00065834],\n",
       "       [0.00046632],\n",
       "       [0.00047363],\n",
       "       ...,\n",
       "       [0.00115029],\n",
       "       [0.00115291],\n",
       "       [0.00124954]], shape=(1176, 1))"
      ]
     },
     "execution_count": 20,
     "metadata": {},
     "output_type": "execute_result"
    }
   ],
   "source": [
    "y"
   ]
  },
  {
   "cell_type": "code",
   "execution_count": 21,
   "id": "b47010cb",
   "metadata": {},
   "outputs": [],
   "source": [
    "from sklearn.model_selection import train_test_split\n",
    "x_train, x_test, y_train, y_test = train_test_split(x, y, test_size=0.2, random_state=42)"
   ]
  },
  {
   "cell_type": "code",
   "execution_count": 22,
   "id": "7b5ae494",
   "metadata": {},
   "outputs": [],
   "source": [
    "from sklearn.linear_model import LinearRegression\n",
    "from sklearn.ensemble import RandomForestRegressor, GradientBoostingRegressor\n",
    "from xgboost import XGBRegressor"
   ]
  },
  {
   "cell_type": "code",
   "execution_count": 23,
   "id": "6279a22f",
   "metadata": {},
   "outputs": [],
   "source": [
    "from sklearn.metrics import mean_absolute_error, mean_squared_error, r2_score"
   ]
  },
  {
   "cell_type": "code",
   "execution_count": 24,
   "id": "fc2ccf95",
   "metadata": {},
   "outputs": [],
   "source": [
    "models = {\n",
    "    'Linear Regression': LinearRegression(),\n",
    "    'Random Forest': RandomForestRegressor(),\n",
    "    'Gradient Boosting': GradientBoostingRegressor(),\n",
    "    'XGBoost': XGBRegressor()\n",
    "}\n"
   ]
  },
  {
   "cell_type": "code",
   "execution_count": 25,
   "id": "0af704b8",
   "metadata": {},
   "outputs": [
    {
     "name": "stdout",
     "output_type": "stream",
     "text": [
      "Linear Regression: , MAE = 0.027 , MSE = 0.007 , R2 = -0.003, Score = -0.0030146236835901785 \n",
      "Random Forest: , MAE = 0.003 , MSE = 0.000 , R2 = 0.986, Score = 0.9856710058290798 \n",
      "Gradient Boosting: , MAE = 0.008 , MSE = 0.000 , R2 = 0.968, Score = 0.9682692947179263 \n",
      "XGBoost: , MAE = 0.002 , MSE = 0.000 , R2 = 0.997, Score = 0.9972123003241627 \n"
     ]
    }
   ],
   "source": [
    "result = {}\n",
    "for name, model in models.items():\n",
    "    model.fit(x_train, y_train.ravel())\n",
    "    y_pred = model.predict(x_test)\n",
    "    \n",
    "    mae = mean_absolute_error(y_test,y_pred)\n",
    "    mse = mean_squared_error(y_test,y_pred)\n",
    "    r2 = r2_score(y_test,y_pred)\n",
    "    score = model.score(x_test,y_test)\n",
    "    print(f\"{name}: , MAE = {mae:.3f} , MSE = {mse:.3f} , R2 = {r2:.3f}, Score = {score} \")"
   ]
  },
  {
   "cell_type": "code",
   "execution_count": 26,
   "id": "40d576bf",
   "metadata": {},
   "outputs": [
    {
     "name": "stdout",
     "output_type": "stream",
     "text": [
      "Fitting 5 folds for each of 20 candidates, totalling 100 fits\n",
      "Best R²: 0.9806497023928735\n",
      "Best Params: {'subsample': 1.0, 'reg_lambda': 1, 'reg_alpha': 0, 'n_estimators': 200, 'max_depth': 5, 'learning_rate': 0.1, 'colsample_bytree': 1.0}\n"
     ]
    }
   ],
   "source": [
    "from sklearn.model_selection import RandomizedSearchCV\n",
    "import xgboost as xgb\n",
    "\n",
    "params = {\n",
    "    'n_estimators': [100, 200, 500],\n",
    "    'learning_rate': [0.01, 0.05, 0.1],\n",
    "    'max_depth': [3, 5, 7],\n",
    "    'subsample': [0.8, 1.0],\n",
    "    'colsample_bytree': [0.8, 1.0],\n",
    "    'reg_alpha': [0, 0.1, 1],\n",
    "    'reg_lambda': [1, 5, 10]\n",
    "}\n",
    "\n",
    "model = xgb.XGBRegressor(random_state=42)\n",
    "\n",
    "search = RandomizedSearchCV(model, param_distributions=params, \n",
    "                            n_iter=20, scoring='r2', cv=5, verbose=1, n_jobs=-1)\n",
    "\n",
    "search.fit(x_train, y_train.ravel())\n",
    "\n",
    "print(\"Best R²:\", search.best_score_)\n",
    "print(\"Best Params:\", search.best_params_)\n"
   ]
  },
  {
   "cell_type": "code",
   "execution_count": 27,
   "id": "dee86e4e",
   "metadata": {},
   "outputs": [
    {
     "data": {
      "text/plain": [
       "0.9977924460512497"
      ]
     },
     "execution_count": 27,
     "metadata": {},
     "output_type": "execute_result"
    }
   ],
   "source": [
    "model = XGBRegressor(subsample=0.8, reg_lambda=1, reg_alpha=0, n_estimators=500, max_depth=7, learning_rate=0.1, colsample_bytree=0.8)\n",
    "model.fit(x_train, y_train.ravel())\n",
    "model.score(x_test, y_test)"
   ]
  },
  {
   "cell_type": "code",
   "execution_count": 30,
   "id": "da83bca1",
   "metadata": {},
   "outputs": [
    {
     "data": {
      "text/plain": [
       "0.985744740120533"
      ]
     },
     "execution_count": 30,
     "metadata": {},
     "output_type": "execute_result"
    }
   ],
   "source": [
    "model.score(x_train, y_train)"
   ]
  },
  {
   "cell_type": "code",
   "execution_count": 29,
   "id": "f57adc76",
   "metadata": {},
   "outputs": [
    {
     "name": "stderr",
     "output_type": "stream",
     "text": [
      "C:\\Users\\dell\\AppData\\Roaming\\Python\\Python313\\site-packages\\xgboost\\core.py:726: FutureWarning: Pass `output_margin` as keyword args.\n",
      "  warnings.warn(msg, FutureWarning)\n"
     ]
    },
    {
     "data": {
      "text/plain": [
       "array([0.00273145], dtype=float32)"
      ]
     },
     "execution_count": 29,
     "metadata": {},
     "output_type": "execute_result"
    }
   ],
   "source": [
    "model.predict([[0, 2025]],0)"
   ]
  },
  {
   "cell_type": "code",
   "execution_count": 31,
   "id": "38ba0b84",
   "metadata": {},
   "outputs": [],
   "source": [
    "y_pred = model.predict(x_test)"
   ]
  },
  {
   "cell_type": "code",
   "execution_count": null,
   "id": "4a845683",
   "metadata": {},
   "outputs": [],
   "source": [
    "from sklearn.metrics import classificationReport\n"
   ]
  }
 ],
 "metadata": {
  "kernelspec": {
   "display_name": "Python 3",
   "language": "python",
   "name": "python3"
  },
  "language_info": {
   "codemirror_mode": {
    "name": "ipython",
    "version": 3
   },
   "file_extension": ".py",
   "mimetype": "text/x-python",
   "name": "python",
   "nbconvert_exporter": "python",
   "pygments_lexer": "ipython3",
   "version": "3.13.7"
  }
 },
 "nbformat": 4,
 "nbformat_minor": 5
}
